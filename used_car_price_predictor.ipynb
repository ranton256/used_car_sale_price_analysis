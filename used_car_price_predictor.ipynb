{
 "cells": [
  {
   "cell_type": "markdown",
   "id": "91f1f28c",
   "metadata": {},
   "source": [
    "# Project - User Car Prices - Predictor\n",
    "\n",
    "## Team Background\n",
    "\n",
    "- Project Grp 08\n",
    "\n",
    "### Team Members\n",
    "\n",
    "- Team member 1\n",
    "    - Name: Richard Anton\n",
    "    - Email: [rna63@drexel.edu](mailto:rna63@drexel.edu)\n",
    "    "
   ]
  },
  {
   "cell_type": "code",
   "execution_count": 14,
   "id": "8296f6a7",
   "metadata": {},
   "outputs": [],
   "source": [
    "from IPython.display import display, HTML"
   ]
  },
  {
   "cell_type": "code",
   "execution_count": 1,
   "id": "5e2a02d4",
   "metadata": {},
   "outputs": [],
   "source": [
    "import joblib\n",
    "from datetime import datetime\n",
    "\n",
    "def save_model(model_name, model, use_ts=True):\n",
    "    if use_ts:\n",
    "        rn = datetime.now()\n",
    "        dts = '_' + rn.strftime(\"%Y_%m_%d_%H_%M_%S\")\n",
    "    else:\n",
    "        dts = ''\n",
    "\n",
    "    dest_path = f\"model_{model_name}{dts}.pkl\"\n",
    "    print(f\"Saving model to {dest_path}\")\n",
    "    joblib.dump(model, dest_path)\n",
    "    \n",
    "    return dest_path\n",
    "\n",
    "def load_model(model_path):\n",
    "    print(f\"Loading model from {model_path}\")\n",
    "    model = joblib.load(model_path)\n",
    "    return model\n"
   ]
  },
  {
   "cell_type": "code",
   "execution_count": 39,
   "id": "09890bc9",
   "metadata": {},
   "outputs": [
    {
     "name": "stdout",
     "output_type": "stream",
     "text": [
      "Loading model from model_xgboost_s_2023_03_13_07_53_37.pkl\n"
     ]
    }
   ],
   "source": [
    "# TODO: put in final model path\n",
    "\n",
    "model_path = 'model_xgboost_s_2023_03_13_07_53_37.pkl'\n",
    "model = load_model(model_path)"
   ]
  },
  {
   "cell_type": "code",
   "execution_count": 27,
   "id": "98288346",
   "metadata": {},
   "outputs": [
    {
     "name": "stdout",
     "output_type": "stream",
     "text": [
      "X.shape (4034, 14)\n",
      "y.shape (4034,)\n"
     ]
    }
   ],
   "source": [
    "# load dataset\n",
    "import pandas as pd\n",
    "\n",
    "# TODO: use full dataset.\n",
    "dataset_path = \"craigslist_sampled_cleaned_2023_03_05_19_07_36.csv\"\n",
    "target_col = 'price'\n",
    "\n",
    "orig_df = pd.read_csv(dataset_path)\n",
    "df = orig_df.copy()\n",
    "# show a sample for sanity check\n",
    "df.head()\n",
    "\n",
    "\n",
    "# split into input data and output values\n",
    "X_all = df.drop(columns=[target_col])\n",
    "y_all = df[target_col]\n",
    "\n",
    "print(\"X.shape\", X_all.shape)\n",
    "print(\"y.shape\", y_all.shape)"
   ]
  },
  {
   "cell_type": "code",
   "execution_count": 28,
   "id": "645b1343",
   "metadata": {},
   "outputs": [],
   "source": [
    "from sklearn import preprocessing\n",
    "import category_encoders as ce\n",
    "from sklearn.preprocessing import StandardScaler"
   ]
  },
  {
   "cell_type": "code",
   "execution_count": 29,
   "id": "c1fa7483",
   "metadata": {},
   "outputs": [
    {
     "name": "stdout",
     "output_type": "stream",
     "text": [
      "cats:\n"
     ]
    },
    {
     "data": {
      "text/plain": [
       "['make',\n",
       " 'model',\n",
       " 'condition',\n",
       " 'cylinders',\n",
       " 'fuel',\n",
       " 'title_status',\n",
       " 'transmission',\n",
       " 'drive',\n",
       " 'size',\n",
       " 'type',\n",
       " 'paint_color',\n",
       " 'state']"
      ]
     },
     "metadata": {},
     "output_type": "display_data"
    },
    {
     "data": {
      "text/plain": [
       "year             float64\n",
       "make            category\n",
       "model           category\n",
       "condition       category\n",
       "cylinders       category\n",
       "fuel            category\n",
       "odometer         float64\n",
       "title_status    category\n",
       "transmission    category\n",
       "drive           category\n",
       "size            category\n",
       "type            category\n",
       "paint_color     category\n",
       "state           category\n",
       "dtype: object"
      ]
     },
     "metadata": {},
     "output_type": "display_data"
    },
    {
     "data": {
      "text/html": [
       "<div>\n",
       "<style scoped>\n",
       "    .dataframe tbody tr th:only-of-type {\n",
       "        vertical-align: middle;\n",
       "    }\n",
       "\n",
       "    .dataframe tbody tr th {\n",
       "        vertical-align: top;\n",
       "    }\n",
       "\n",
       "    .dataframe thead th {\n",
       "        text-align: right;\n",
       "    }\n",
       "</style>\n",
       "<table border=\"1\" class=\"dataframe\">\n",
       "  <thead>\n",
       "    <tr style=\"text-align: right;\">\n",
       "      <th></th>\n",
       "      <th>year</th>\n",
       "      <th>make</th>\n",
       "      <th>model</th>\n",
       "      <th>condition</th>\n",
       "      <th>cylinders</th>\n",
       "      <th>fuel</th>\n",
       "      <th>odometer</th>\n",
       "      <th>title_status</th>\n",
       "      <th>transmission</th>\n",
       "      <th>drive</th>\n",
       "      <th>size</th>\n",
       "      <th>type</th>\n",
       "      <th>paint_color</th>\n",
       "      <th>state</th>\n",
       "    </tr>\n",
       "  </thead>\n",
       "  <tbody>\n",
       "    <tr>\n",
       "      <th>0</th>\n",
       "      <td>2016.0</td>\n",
       "      <td>chevrolet</td>\n",
       "      <td>silverado 1500 double</td>\n",
       "      <td>good</td>\n",
       "      <td>6 cylinders</td>\n",
       "      <td>gas</td>\n",
       "      <td>29499.0</td>\n",
       "      <td>clean</td>\n",
       "      <td>other</td>\n",
       "      <td>4wd</td>\n",
       "      <td>full-size</td>\n",
       "      <td>pickup</td>\n",
       "      <td>silver</td>\n",
       "      <td>al</td>\n",
       "    </tr>\n",
       "    <tr>\n",
       "      <th>1</th>\n",
       "      <td>2013.0</td>\n",
       "      <td>lincoln</td>\n",
       "      <td>mkz sedan 4d</td>\n",
       "      <td>good</td>\n",
       "      <td>6 cylinders</td>\n",
       "      <td>gas</td>\n",
       "      <td>61087.0</td>\n",
       "      <td>clean</td>\n",
       "      <td>other</td>\n",
       "      <td>fwd</td>\n",
       "      <td>full-size</td>\n",
       "      <td>sedan</td>\n",
       "      <td>red</td>\n",
       "      <td>al</td>\n",
       "    </tr>\n",
       "    <tr>\n",
       "      <th>2</th>\n",
       "      <td>2005.0</td>\n",
       "      <td>honda</td>\n",
       "      <td>accord ex-l</td>\n",
       "      <td>excellent</td>\n",
       "      <td>4 cylinders</td>\n",
       "      <td>gas</td>\n",
       "      <td>155000.0</td>\n",
       "      <td>clean</td>\n",
       "      <td>manual</td>\n",
       "      <td>4wd</td>\n",
       "      <td>full-size</td>\n",
       "      <td>sedan</td>\n",
       "      <td>white</td>\n",
       "      <td>al</td>\n",
       "    </tr>\n",
       "    <tr>\n",
       "      <th>3</th>\n",
       "      <td>2012.0</td>\n",
       "      <td>ford</td>\n",
       "      <td>f250 super duty</td>\n",
       "      <td>good</td>\n",
       "      <td>6 cylinders</td>\n",
       "      <td>gas</td>\n",
       "      <td>47380.0</td>\n",
       "      <td>clean</td>\n",
       "      <td>automatic</td>\n",
       "      <td>4wd</td>\n",
       "      <td>full-size</td>\n",
       "      <td>sedan</td>\n",
       "      <td>white</td>\n",
       "      <td>al</td>\n",
       "    </tr>\n",
       "    <tr>\n",
       "      <th>4</th>\n",
       "      <td>2021.0</td>\n",
       "      <td>ford</td>\n",
       "      <td>SPECIAL FINANCE PROGRAM 2020</td>\n",
       "      <td>fair</td>\n",
       "      <td>other</td>\n",
       "      <td>other</td>\n",
       "      <td>1400.0</td>\n",
       "      <td>clean</td>\n",
       "      <td>other</td>\n",
       "      <td>4wd</td>\n",
       "      <td>full-size</td>\n",
       "      <td>bus</td>\n",
       "      <td>green</td>\n",
       "      <td>al</td>\n",
       "    </tr>\n",
       "  </tbody>\n",
       "</table>\n",
       "</div>"
      ],
      "text/plain": [
       "     year       make                         model  condition    cylinders  \\\n",
       "0  2016.0  chevrolet         silverado 1500 double       good  6 cylinders   \n",
       "1  2013.0    lincoln                  mkz sedan 4d       good  6 cylinders   \n",
       "2  2005.0      honda                   accord ex-l  excellent  4 cylinders   \n",
       "3  2012.0       ford               f250 super duty       good  6 cylinders   \n",
       "4  2021.0       ford  SPECIAL FINANCE PROGRAM 2020       fair        other   \n",
       "\n",
       "    fuel  odometer title_status transmission drive       size    type  \\\n",
       "0    gas   29499.0        clean        other   4wd  full-size  pickup   \n",
       "1    gas   61087.0        clean        other   fwd  full-size   sedan   \n",
       "2    gas  155000.0        clean       manual   4wd  full-size   sedan   \n",
       "3    gas   47380.0        clean    automatic   4wd  full-size   sedan   \n",
       "4  other    1400.0        clean        other   4wd  full-size     bus   \n",
       "\n",
       "  paint_color state  \n",
       "0      silver    al  \n",
       "1         red    al  \n",
       "2       white    al  \n",
       "3       white    al  \n",
       "4       green    al  "
      ]
     },
     "metadata": {},
     "output_type": "display_data"
    }
   ],
   "source": [
    "# Convert categorical columns to Pandas category type\n",
    "import numpy as np\n",
    "\n",
    "cats = X_all.select_dtypes(exclude=np.number).columns.tolist()\n",
    "print(\"cats:\")\n",
    "display(cats)\n",
    "for col in cats:\n",
    "    X_all[col] = X_all[col].astype('category')\n",
    "\n",
    "display(X_all.dtypes)\n",
    "display(X_all.head())"
   ]
  },
  {
   "cell_type": "code",
   "execution_count": 54,
   "id": "9e018e56",
   "metadata": {},
   "outputs": [
    {
     "name": "stdout",
     "output_type": "stream",
     "text": [
      "X_test.shape (807, 14)\n",
      "y_test.shape (807,)\n"
     ]
    }
   ],
   "source": [
    "# Train test split\n",
    "from sklearn.model_selection import train_test_split\n",
    "\n",
    "# It's important that the random_state matches the other notebook.\n",
    "_, X_test, _, y_test = train_test_split(X_all, y_all, test_size=0.2, random_state=193)\n",
    "# just keep test data\n",
    "\n",
    "print(\"X_test.shape\", X_test.shape)"
   ]
  },
  {
   "cell_type": "code",
   "execution_count": 31,
   "id": "f149c440",
   "metadata": {},
   "outputs": [],
   "source": [
    "from sklearn.compose import ColumnTransformer \n",
    "from sklearn.impute import SimpleImputer\n",
    "from sklearn.preprocessing import StandardScaler\n",
    "from sklearn.pipeline import Pipeline"
   ]
  },
  {
   "cell_type": "code",
   "execution_count": 32,
   "id": "b4cd1cd1",
   "metadata": {},
   "outputs": [],
   "source": [
    "import xgboost as xgb"
   ]
  },
  {
   "cell_type": "code",
   "execution_count": 33,
   "id": "248aac1c",
   "metadata": {},
   "outputs": [],
   "source": [
    "numeric_cols = ['year', 'odometer']\n",
    "cat_cols = ['make', 'model', 'condition', 'cylinders', 'fuel', 'title_status',\n",
    "       'transmission', 'drive', 'size', 'type', 'paint_color', 'state']\n"
   ]
  },
  {
   "cell_type": "code",
   "execution_count": 34,
   "id": "073d3be1",
   "metadata": {},
   "outputs": [
    {
     "name": "stdout",
     "output_type": "stream",
     "text": [
      "Loading model from model_preprocessor_s_2023_03_13_07_28_32.pkl\n"
     ]
    }
   ],
   "source": [
    "preprocessor_path = 'model_preprocessor_s_2023_03_13_07_28_32.pkl'\n",
    "preprocess = load_model(preprocessor_path)"
   ]
  },
  {
   "cell_type": "code",
   "execution_count": 48,
   "id": "f258f0f3",
   "metadata": {},
   "outputs": [],
   "source": [
    "def xgboost_predict(X_test):\n",
    "    X_pre_test =  preprocess.transform(X_test)\n",
    "    \n",
    "    # Convert to the format XGBoost lib expects.\n",
    "    dtest_reg = xgb.DMatrix(X_pre_test)\n",
    "    predict_test = model.predict(dtest_reg)\n",
    "    \n",
    "    return predict_test"
   ]
  },
  {
   "cell_type": "code",
   "execution_count": 50,
   "id": "a0b2682e",
   "metadata": {
    "scrolled": false
   },
   "outputs": [],
   "source": [
    "predict_test = xgboost_predict(X_test)"
   ]
  },
  {
   "cell_type": "code",
   "execution_count": 53,
   "id": "98be232c",
   "metadata": {
    "scrolled": true
   },
   "outputs": [
    {
     "name": "stdout",
     "output_type": "stream",
     "text": [
      "RMSE of test data:  8068.864004696706\n",
      "R2 Score of test data: 0.6542370459009877\n"
     ]
    }
   ],
   "source": [
    "from sklearn.metrics import mean_squared_error\n",
    "from sklearn.metrics import r2_score\n",
    "\n",
    "# NOTE: this is just a sanity check. Should not have test values for real life.\n",
    "print('RMSE of test data: ',  mean_squared_error(y_test, predict_test)**(0.5))\n",
    "\n",
    "r2 = r2_score(y_test, predict_test)\n",
    "print('R2 Score of test data:', r2)"
   ]
  },
  {
   "cell_type": "code",
   "execution_count": null,
   "id": "8b5727d1",
   "metadata": {},
   "outputs": [],
   "source": []
  }
 ],
 "metadata": {
  "kernelspec": {
   "display_name": "ds",
   "language": "python",
   "name": "ds"
  },
  "language_info": {
   "codemirror_mode": {
    "name": "ipython",
    "version": 3
   },
   "file_extension": ".py",
   "mimetype": "text/x-python",
   "name": "python",
   "nbconvert_exporter": "python",
   "pygments_lexer": "ipython3",
   "version": "3.10.8"
  }
 },
 "nbformat": 4,
 "nbformat_minor": 5
}
