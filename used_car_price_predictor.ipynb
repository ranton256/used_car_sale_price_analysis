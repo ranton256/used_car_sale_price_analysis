{
 "cells": [
  {
   "cell_type": "markdown",
   "id": "385906a3",
   "metadata": {},
   "source": [
    "# Project - User Car Prices - Predictor\n",
    "\n",
    "## Team Background\n",
    "\n",
    "- Project Grp 08\n",
    "\n",
    "### Team Members\n",
    "\n",
    "- Team member 1\n",
    "    - Name: Richard Anton\n",
    "    - Email: [rna63@drexel.edu](mailto:rna63@drexel.edu)\n",
    "    "
   ]
  },
  {
   "cell_type": "markdown",
   "id": "d19c87da",
   "metadata": {},
   "source": [
    "## Inference\n",
    "\n",
    "This notebook demonstrates how to load the saved model and fitted preprocessor and run the regression model.\n",
    "It loads the test data and checks for predicted results as a sanity check, but in real life we would use new data where we did not necessarily have the data."
   ]
  },
  {
   "cell_type": "code",
   "execution_count": 1,
   "id": "312d96b8",
   "metadata": {},
   "outputs": [],
   "source": [
    "preprocessor_path = 'model_preprocessor_f_2023_03_13_14_22_04.pkl'\n",
    "model_path = \"model_xgboost_2023_03_13_16_35_43.pkl\"\n",
    "dataset_path = \"craigslist_full_cleaned_2023_03_12_10_45_22.csv\""
   ]
  },
  {
   "cell_type": "code",
   "execution_count": 2,
   "id": "13a42d04",
   "metadata": {},
   "outputs": [],
   "source": [
    "from IPython.display import display, HTML"
   ]
  },
  {
   "cell_type": "code",
   "execution_count": 3,
   "id": "6bf8668e",
   "metadata": {},
   "outputs": [],
   "source": [
    "import joblib\n",
    "from datetime import datetime\n",
    "\n",
    "def save_model(model_name, model, use_ts=True):\n",
    "    if use_ts:\n",
    "        rn = datetime.now()\n",
    "        dts = '_' + rn.strftime(\"%Y_%m_%d_%H_%M_%S\")\n",
    "    else:\n",
    "        dts = ''\n",
    "\n",
    "    dest_path = f\"model_{model_name}{dts}.pkl\"\n",
    "    print(f\"Saving model to {dest_path}\")\n",
    "    joblib.dump(model, dest_path)\n",
    "    \n",
    "    return dest_path\n",
    "\n",
    "def load_model(model_path):\n",
    "    print(f\"Loading model from {model_path}\")\n",
    "    model = joblib.load(model_path)\n",
    "    return model\n"
   ]
  },
  {
   "cell_type": "code",
   "execution_count": 4,
   "id": "b48636d6",
   "metadata": {},
   "outputs": [
    {
     "name": "stdout",
     "output_type": "stream",
     "text": [
      "Loading model from model_preprocessor_f_2023_03_13_14_22_04.pkl\n"
     ]
    }
   ],
   "source": [
    "preprocess = load_model(preprocessor_path)"
   ]
  },
  {
   "cell_type": "code",
   "execution_count": 5,
   "id": "2bec70bd",
   "metadata": {
    "scrolled": true
   },
   "outputs": [
    {
     "name": "stdout",
     "output_type": "stream",
     "text": [
      "Loading model from model_xgboost_2023_03_13_16_35_43.pkl\n"
     ]
    }
   ],
   "source": [
    "model = load_model(model_path)"
   ]
  },
  {
   "cell_type": "code",
   "execution_count": 6,
   "id": "9420aabc",
   "metadata": {},
   "outputs": [
    {
     "name": "stdout",
     "output_type": "stream",
     "text": [
      "X.shape (393908, 14)\n",
      "y.shape (393908,)\n"
     ]
    }
   ],
   "source": [
    "# load dataset\n",
    "import pandas as pd\n",
    "\n",
    "target_col = 'price'\n",
    "\n",
    "orig_df = pd.read_csv(dataset_path)\n",
    "df = orig_df.copy()\n",
    "# show a sample for sanity check\n",
    "df.head()\n",
    "\n",
    "\n",
    "# split into input data and output values\n",
    "X_all = df.drop(columns=[target_col])\n",
    "y_all = df[target_col]\n",
    "\n",
    "print(\"X.shape\", X_all.shape)\n",
    "print(\"y.shape\", y_all.shape)"
   ]
  },
  {
   "cell_type": "code",
   "execution_count": 7,
   "id": "7156c35e",
   "metadata": {},
   "outputs": [],
   "source": [
    "from sklearn import preprocessing\n",
    "import category_encoders as ce\n",
    "from sklearn.preprocessing import StandardScaler"
   ]
  },
  {
   "cell_type": "code",
   "execution_count": 8,
   "id": "5e568415",
   "metadata": {},
   "outputs": [
    {
     "name": "stdout",
     "output_type": "stream",
     "text": [
      "cats:\n"
     ]
    },
    {
     "data": {
      "text/plain": [
       "['make',\n",
       " 'model',\n",
       " 'condition',\n",
       " 'cylinders',\n",
       " 'fuel',\n",
       " 'title_status',\n",
       " 'transmission',\n",
       " 'drive',\n",
       " 'size',\n",
       " 'type',\n",
       " 'paint_color',\n",
       " 'state']"
      ]
     },
     "metadata": {},
     "output_type": "display_data"
    },
    {
     "data": {
      "text/plain": [
       "year             float64\n",
       "make            category\n",
       "model           category\n",
       "condition       category\n",
       "cylinders       category\n",
       "fuel            category\n",
       "odometer         float64\n",
       "title_status    category\n",
       "transmission    category\n",
       "drive           category\n",
       "size            category\n",
       "type            category\n",
       "paint_color     category\n",
       "state           category\n",
       "dtype: object"
      ]
     },
     "metadata": {},
     "output_type": "display_data"
    },
    {
     "data": {
      "text/html": [
       "<div>\n",
       "<style scoped>\n",
       "    .dataframe tbody tr th:only-of-type {\n",
       "        vertical-align: middle;\n",
       "    }\n",
       "\n",
       "    .dataframe tbody tr th {\n",
       "        vertical-align: top;\n",
       "    }\n",
       "\n",
       "    .dataframe thead th {\n",
       "        text-align: right;\n",
       "    }\n",
       "</style>\n",
       "<table border=\"1\" class=\"dataframe\">\n",
       "  <thead>\n",
       "    <tr style=\"text-align: right;\">\n",
       "      <th></th>\n",
       "      <th>year</th>\n",
       "      <th>make</th>\n",
       "      <th>model</th>\n",
       "      <th>condition</th>\n",
       "      <th>cylinders</th>\n",
       "      <th>fuel</th>\n",
       "      <th>odometer</th>\n",
       "      <th>title_status</th>\n",
       "      <th>transmission</th>\n",
       "      <th>drive</th>\n",
       "      <th>size</th>\n",
       "      <th>type</th>\n",
       "      <th>paint_color</th>\n",
       "      <th>state</th>\n",
       "    </tr>\n",
       "  </thead>\n",
       "  <tbody>\n",
       "    <tr>\n",
       "      <th>0</th>\n",
       "      <td>2011.406247</td>\n",
       "      <td>ford</td>\n",
       "      <td>f-150</td>\n",
       "      <td>good</td>\n",
       "      <td>6 cylinders</td>\n",
       "      <td>gas</td>\n",
       "      <td>92647.432999</td>\n",
       "      <td>clean</td>\n",
       "      <td>automatic</td>\n",
       "      <td>4wd</td>\n",
       "      <td>full-size</td>\n",
       "      <td>sedan</td>\n",
       "      <td>white</td>\n",
       "      <td>az</td>\n",
       "    </tr>\n",
       "    <tr>\n",
       "      <th>1</th>\n",
       "      <td>2011.406247</td>\n",
       "      <td>ford</td>\n",
       "      <td>f-150</td>\n",
       "      <td>good</td>\n",
       "      <td>6 cylinders</td>\n",
       "      <td>gas</td>\n",
       "      <td>92647.432999</td>\n",
       "      <td>clean</td>\n",
       "      <td>automatic</td>\n",
       "      <td>4wd</td>\n",
       "      <td>full-size</td>\n",
       "      <td>sedan</td>\n",
       "      <td>white</td>\n",
       "      <td>ar</td>\n",
       "    </tr>\n",
       "    <tr>\n",
       "      <th>2</th>\n",
       "      <td>2011.406247</td>\n",
       "      <td>ford</td>\n",
       "      <td>f-150</td>\n",
       "      <td>good</td>\n",
       "      <td>6 cylinders</td>\n",
       "      <td>gas</td>\n",
       "      <td>92647.432999</td>\n",
       "      <td>clean</td>\n",
       "      <td>automatic</td>\n",
       "      <td>4wd</td>\n",
       "      <td>full-size</td>\n",
       "      <td>sedan</td>\n",
       "      <td>white</td>\n",
       "      <td>fl</td>\n",
       "    </tr>\n",
       "    <tr>\n",
       "      <th>3</th>\n",
       "      <td>2011.406247</td>\n",
       "      <td>ford</td>\n",
       "      <td>f-150</td>\n",
       "      <td>good</td>\n",
       "      <td>6 cylinders</td>\n",
       "      <td>gas</td>\n",
       "      <td>92647.432999</td>\n",
       "      <td>clean</td>\n",
       "      <td>automatic</td>\n",
       "      <td>4wd</td>\n",
       "      <td>full-size</td>\n",
       "      <td>sedan</td>\n",
       "      <td>white</td>\n",
       "      <td>ma</td>\n",
       "    </tr>\n",
       "    <tr>\n",
       "      <th>4</th>\n",
       "      <td>2011.406247</td>\n",
       "      <td>ford</td>\n",
       "      <td>f-150</td>\n",
       "      <td>good</td>\n",
       "      <td>6 cylinders</td>\n",
       "      <td>gas</td>\n",
       "      <td>92647.432999</td>\n",
       "      <td>clean</td>\n",
       "      <td>automatic</td>\n",
       "      <td>4wd</td>\n",
       "      <td>full-size</td>\n",
       "      <td>sedan</td>\n",
       "      <td>white</td>\n",
       "      <td>nc</td>\n",
       "    </tr>\n",
       "  </tbody>\n",
       "</table>\n",
       "</div>"
      ],
      "text/plain": [
       "          year  make  model condition    cylinders fuel      odometer  \\\n",
       "0  2011.406247  ford  f-150      good  6 cylinders  gas  92647.432999   \n",
       "1  2011.406247  ford  f-150      good  6 cylinders  gas  92647.432999   \n",
       "2  2011.406247  ford  f-150      good  6 cylinders  gas  92647.432999   \n",
       "3  2011.406247  ford  f-150      good  6 cylinders  gas  92647.432999   \n",
       "4  2011.406247  ford  f-150      good  6 cylinders  gas  92647.432999   \n",
       "\n",
       "  title_status transmission drive       size   type paint_color state  \n",
       "0        clean    automatic   4wd  full-size  sedan       white    az  \n",
       "1        clean    automatic   4wd  full-size  sedan       white    ar  \n",
       "2        clean    automatic   4wd  full-size  sedan       white    fl  \n",
       "3        clean    automatic   4wd  full-size  sedan       white    ma  \n",
       "4        clean    automatic   4wd  full-size  sedan       white    nc  "
      ]
     },
     "metadata": {},
     "output_type": "display_data"
    }
   ],
   "source": [
    "# Convert categorical columns to Pandas category type\n",
    "import numpy as np\n",
    "\n",
    "cats = X_all.select_dtypes(exclude=np.number).columns.tolist()\n",
    "print(\"cats:\")\n",
    "display(cats)\n",
    "for col in cats:\n",
    "    X_all[col] = X_all[col].astype('category')\n",
    "\n",
    "# show data so we can tell we are getting what's expected.\n",
    "display(X_all.dtypes)\n",
    "display(X_all.head())"
   ]
  },
  {
   "cell_type": "code",
   "execution_count": 9,
   "id": "2f348be3",
   "metadata": {},
   "outputs": [
    {
     "name": "stdout",
     "output_type": "stream",
     "text": [
      "X_test.shape (78782, 14)\n"
     ]
    }
   ],
   "source": [
    "# Train test split\n",
    "from sklearn.model_selection import train_test_split\n",
    "\n",
    "# It's important that the random_state matches the other notebook.\n",
    "_, X_test, _, y_test = train_test_split(X_all, y_all, test_size=0.2, random_state=193)\n",
    "# just keep test data\n",
    "\n",
    "print(\"X_test.shape\", X_test.shape)"
   ]
  },
  {
   "cell_type": "code",
   "execution_count": 10,
   "id": "a6e9857d",
   "metadata": {},
   "outputs": [],
   "source": [
    "from sklearn.compose import ColumnTransformer \n",
    "from sklearn.impute import SimpleImputer\n",
    "from sklearn.preprocessing import StandardScaler\n",
    "from sklearn.pipeline import Pipeline"
   ]
  },
  {
   "cell_type": "code",
   "execution_count": 11,
   "id": "46699843",
   "metadata": {},
   "outputs": [],
   "source": [
    "import xgboost as xgb"
   ]
  },
  {
   "cell_type": "code",
   "execution_count": 12,
   "id": "b7f3816c",
   "metadata": {},
   "outputs": [],
   "source": [
    "numeric_cols = ['year', 'odometer']\n",
    "cat_cols = ['make', 'model', 'condition', 'cylinders', 'fuel', 'title_status',\n",
    "       'transmission', 'drive', 'size', 'type', 'paint_color', 'state']\n"
   ]
  },
  {
   "cell_type": "code",
   "execution_count": 13,
   "id": "933bfac0",
   "metadata": {},
   "outputs": [],
   "source": [
    "def xgboost_predict(X_test):\n",
    "    X_pre_test =  preprocess.transform(X_test)\n",
    "    \n",
    "    # Convert to the format XGBoost lib expects.\n",
    "    dtest_reg = xgb.DMatrix(X_pre_test)\n",
    "    predict_test = model.predict(dtest_reg)\n",
    "    \n",
    "    return predict_test"
   ]
  },
  {
   "cell_type": "code",
   "execution_count": 14,
   "id": "b00dd486",
   "metadata": {
    "scrolled": false
   },
   "outputs": [],
   "source": [
    "predict_test = xgboost_predict(X_test)"
   ]
  },
  {
   "cell_type": "code",
   "execution_count": 15,
   "id": "35275fc9",
   "metadata": {
    "scrolled": true
   },
   "outputs": [
    {
     "name": "stdout",
     "output_type": "stream",
     "text": [
      "RMSE of test data:  4944.281393534352\n",
      "R2 Score of test data: 0.8791911598987936\n"
     ]
    }
   ],
   "source": [
    "from sklearn.metrics import mean_squared_error\n",
    "from sklearn.metrics import r2_score\n",
    "\n",
    "# NOTE: this is just a sanity check. Should not have test values for real life.\n",
    "print('RMSE of test data: ',  mean_squared_error(y_test, predict_test)**(0.5))\n",
    "\n",
    "r2 = r2_score(y_test, predict_test)\n",
    "print('R2 Score of test data:', r2)"
   ]
  },
  {
   "cell_type": "code",
   "execution_count": 20,
   "id": "274bdb2e",
   "metadata": {},
   "outputs": [],
   "source": [
    "TEST_DATA = {\n",
    "  \"year\": 2014,\n",
    "  \"make\": \"Ford\",\n",
    "  \"model\": \"F150\",\n",
    "  \"condition\": \"fair\",\n",
    "  \"cylinders\": \"6 cylinders\",\n",
    "  \"fuel\": \"gas\",\n",
    "  \"odometer\": 82000,\n",
    "  \"title_status\": \"clean\",\n",
    "  \"transmission\": \"automatic\",\n",
    "  \"drive\": \"4wd\",\n",
    "  \"size\": \"full-size\",\n",
    "  \"type\": \"pickup\",\n",
    "  \"paint_color\": \"black\",\n",
    "  \"state\": \"WI\"\n",
    "}\n",
    "\n",
    "\n",
    "df = pd.DataFrame(data=TEST_DATA, index=[0])\n"
   ]
  },
  {
   "cell_type": "code",
   "execution_count": 21,
   "id": "af895612",
   "metadata": {},
   "outputs": [
    {
     "data": {
      "text/plain": [
       "'$19679.92'"
      ]
     },
     "metadata": {},
     "output_type": "display_data"
    }
   ],
   "source": [
    "results = xgboost_predict(df)\n",
    "\n",
    "predicted = results[0]\n",
    "\n",
    "display(\"${price:.2f}\".format(price=predicted))"
   ]
  },
  {
   "cell_type": "code",
   "execution_count": null,
   "id": "3755b84a",
   "metadata": {},
   "outputs": [],
   "source": []
  }
 ],
 "metadata": {
  "kernelspec": {
   "display_name": "ds",
   "language": "python",
   "name": "ds"
  },
  "language_info": {
   "codemirror_mode": {
    "name": "ipython",
    "version": 3
   },
   "file_extension": ".py",
   "mimetype": "text/x-python",
   "name": "python",
   "nbconvert_exporter": "python",
   "pygments_lexer": "ipython3",
   "version": "3.10.8"
  }
 },
 "nbformat": 4,
 "nbformat_minor": 5
}
